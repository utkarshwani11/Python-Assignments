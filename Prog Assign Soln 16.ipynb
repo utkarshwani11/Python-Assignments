{
 "cells": [
  {
   "cell_type": "markdown",
   "id": "f4448361",
   "metadata": {},
   "source": [
    "# Python Basic Programming Assignment 16"
   ]
  },
  {
   "cell_type": "markdown",
   "id": "81559e37",
   "metadata": {},
   "source": [
    "1. Write a function that stutters a word as if someone is struggling to read it. The first two letters are repeated twice with an ellipsis ... and space after each, and then the word is pronounced with a question mark ?. Examples stutter('incredible') ➞ 'in... in... incredible?' stutter('enthusiastic') ➞ 'en... en... enthusiastic?' stutter('outstanding') ➞ 'ou... ou... outstanding?'\n",
    "\n",
    "Hint :- Assume all input is in lower case and at least two characters long."
   ]
  },
  {
   "cell_type": "code",
   "execution_count": 1,
   "id": "65208d3c",
   "metadata": {},
   "outputs": [
    {
     "name": "stdout",
     "output_type": "stream",
     "text": [
      "in...in... incredible?\n",
      "en...en... enthusiastic?\n",
      "ou...ou... outstanding?\n"
     ]
    }
   ],
   "source": [
    "def stutter(word:str):\n",
    "    print(f\"{word[:2]}...{word[:2]}... {word}?\")\n",
    "    \n",
    "stutter(\"incredible\")\n",
    "stutter(\"enthusiastic\")\n",
    "stutter(\"outstanding\")"
   ]
  },
  {
   "cell_type": "markdown",
   "id": "784a29dc",
   "metadata": {},
   "source": [
    "2. Create a function that takes an angle in radians and returns the corresponding angle in degrees rounded to one decimal place."
   ]
  },
  {
   "cell_type": "code",
   "execution_count": 2,
   "id": "14565908",
   "metadata": {},
   "outputs": [],
   "source": [
    "def rad_to_deg(rads):\n",
    "    return round(57.295779513* rads,1)"
   ]
  },
  {
   "cell_type": "code",
   "execution_count": 3,
   "id": "11fff3e0",
   "metadata": {},
   "outputs": [
    {
     "name": "stdout",
     "output_type": "stream",
     "text": [
      "573.0\n"
     ]
    }
   ],
   "source": [
    "print(rad_to_deg(10))"
   ]
  },
  {
   "cell_type": "code",
   "execution_count": 4,
   "id": "7572733b",
   "metadata": {},
   "outputs": [
    {
     "name": "stdout",
     "output_type": "stream",
     "text": [
      "1145.9\n"
     ]
    }
   ],
   "source": [
    "print(rad_to_deg(20))"
   ]
  },
  {
   "cell_type": "markdown",
   "id": "cba1097f",
   "metadata": {},
   "source": [
    "3. In this challenge, establish if a given integer num is a Curzon number. If 1 plus 2 elevated to num is exactly divisible by 1 plus 2 multiplied by num, then num is a Curzon number. Given a non-negative integer num, implement a function that returns True if num is a Curzon number, or False otherwise."
   ]
  },
  {
   "cell_type": "code",
   "execution_count": 5,
   "id": "7bad1801",
   "metadata": {},
   "outputs": [],
   "source": [
    "def is_curzon(n):\n",
    "    if (1+2 ** n) % (1+2*n) == 0:\n",
    "        return True\n",
    "    \n",
    "    return False"
   ]
  },
  {
   "cell_type": "code",
   "execution_count": 6,
   "id": "9998f49c",
   "metadata": {},
   "outputs": [
    {
     "name": "stdout",
     "output_type": "stream",
     "text": [
      "False\n"
     ]
    }
   ],
   "source": [
    "print(is_curzon(10))"
   ]
  },
  {
   "cell_type": "code",
   "execution_count": 7,
   "id": "37c65c1d",
   "metadata": {},
   "outputs": [
    {
     "name": "stdout",
     "output_type": "stream",
     "text": [
      "True\n"
     ]
    }
   ],
   "source": [
    "print(is_curzon(14))"
   ]
  },
  {
   "cell_type": "markdown",
   "id": "9f30b458",
   "metadata": {},
   "source": [
    "4. Given the side length x find the area of a hexagon."
   ]
  },
  {
   "cell_type": "code",
   "execution_count": 8,
   "id": "6ca1c4bc",
   "metadata": {},
   "outputs": [],
   "source": [
    "import math\n",
    "\n",
    "def area_of_Hexagon(length):\n",
    "    area = 3 * math.sqrt(3) * 0.5 * length * length\n",
    "    return round(area,1)\n"
   ]
  },
  {
   "cell_type": "code",
   "execution_count": 9,
   "id": "d457d2b7",
   "metadata": {},
   "outputs": [
    {
     "name": "stdout",
     "output_type": "stream",
     "text": [
      "374.1\n",
      "1039.2\n"
     ]
    }
   ],
   "source": [
    "print(area_of_Hexagon(12))\n",
    "print(area_of_Hexagon(20))"
   ]
  },
  {
   "cell_type": "markdown",
   "id": "73263c73",
   "metadata": {},
   "source": [
    "5. Create a function that returns a base-2 (binary) representation of a base-10 (decimal) string number. To convert is simple: ((2) means base-2 and (10) means base-10) 010101001(2) = 1 + 8 + 32 + 128."
   ]
  },
  {
   "cell_type": "code",
   "execution_count": 10,
   "id": "bdd8e29b",
   "metadata": {},
   "outputs": [],
   "source": [
    "def binary(n):\n",
    "    return \"{0:b}\".format(int(n))"
   ]
  },
  {
   "cell_type": "code",
   "execution_count": 12,
   "id": "900ac020",
   "metadata": {},
   "outputs": [
    {
     "name": "stdout",
     "output_type": "stream",
     "text": [
      "1\n",
      "1010\n"
     ]
    }
   ],
   "source": [
    "print(binary(1))\n",
    "print(binary(10))"
   ]
  },
  {
   "cell_type": "code",
   "execution_count": null,
   "id": "78645cd1",
   "metadata": {},
   "outputs": [],
   "source": []
  }
 ],
 "metadata": {
  "kernelspec": {
   "display_name": "Python 3 (ipykernel)",
   "language": "python",
   "name": "python3"
  },
  "language_info": {
   "codemirror_mode": {
    "name": "ipython",
    "version": 3
   },
   "file_extension": ".py",
   "mimetype": "text/x-python",
   "name": "python",
   "nbconvert_exporter": "python",
   "pygments_lexer": "ipython3",
   "version": "3.9.7"
  }
 },
 "nbformat": 4,
 "nbformat_minor": 5
}

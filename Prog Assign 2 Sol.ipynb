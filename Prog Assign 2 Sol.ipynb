{
 "cells": [
  {
   "cell_type": "markdown",
   "id": "87a5138d",
   "metadata": {},
   "source": [
    "# Programming Assigment- 2"
   ]
  },
  {
   "cell_type": "markdown",
   "id": "abb4375d",
   "metadata": {},
   "source": [
    "1. Write Python program to convert kilometers to miles?"
   ]
  },
  {
   "cell_type": "code",
   "execution_count": 6,
   "id": "c4f0876a",
   "metadata": {},
   "outputs": [
    {
     "name": "stdout",
     "output_type": "stream",
     "text": [
      " 20km is equal to 12.427454732996136miles \n"
     ]
    }
   ],
   "source": [
    "km = 20\n",
    "miles = km/1.60934\n",
    "\n",
    "print(\" {}km is equal to {}miles \".format(km,miles))"
   ]
  },
  {
   "cell_type": "markdown",
   "id": "33143c1a",
   "metadata": {},
   "source": [
    "2. Write a program to convert Degree celsius to Fahrenheit?"
   ]
  },
  {
   "cell_type": "code",
   "execution_count": 13,
   "id": "7a9e6296",
   "metadata": {},
   "outputs": [
    {
     "name": "stdout",
     "output_type": "stream",
     "text": [
      "For input 25 = Fahrenheit 77.0\n"
     ]
    }
   ],
   "source": [
    "c = 25\n",
    "f = (9*c/5)+32\n",
    "\n",
    "print(\"For input {} = Fahrenheit {}\".format(c,f))"
   ]
  },
  {
   "cell_type": "markdown",
   "id": "509eab31",
   "metadata": {},
   "source": [
    "3.Write a python program to display calendar?"
   ]
  },
  {
   "cell_type": "code",
   "execution_count": 15,
   "id": "92404bc6",
   "metadata": {},
   "outputs": [
    {
     "name": "stdout",
     "output_type": "stream",
     "text": [
      "      May 2020\n",
      "Mo Tu We Th Fr Sa Su\n",
      "             1  2  3\n",
      " 4  5  6  7  8  9 10\n",
      "11 12 13 14 15 16 17\n",
      "18 19 20 21 22 23 24\n",
      "25 26 27 28 29 30 31\n",
      "\n",
      "                                  2020\n",
      "\n",
      "      January                   February                   March\n",
      "Mo Tu We Th Fr Sa Su      Mo Tu We Th Fr Sa Su      Mo Tu We Th Fr Sa Su\n",
      "       1  2  3  4  5                      1  2                         1\n",
      " 6  7  8  9 10 11 12       3  4  5  6  7  8  9       2  3  4  5  6  7  8\n",
      "13 14 15 16 17 18 19      10 11 12 13 14 15 16       9 10 11 12 13 14 15\n",
      "20 21 22 23 24 25 26      17 18 19 20 21 22 23      16 17 18 19 20 21 22\n",
      "27 28 29 30 31            24 25 26 27 28 29         23 24 25 26 27 28 29\n",
      "                                                    30 31\n",
      "\n",
      "       April                      May                       June\n",
      "Mo Tu We Th Fr Sa Su      Mo Tu We Th Fr Sa Su      Mo Tu We Th Fr Sa Su\n",
      "       1  2  3  4  5                   1  2  3       1  2  3  4  5  6  7\n",
      " 6  7  8  9 10 11 12       4  5  6  7  8  9 10       8  9 10 11 12 13 14\n",
      "13 14 15 16 17 18 19      11 12 13 14 15 16 17      15 16 17 18 19 20 21\n",
      "20 21 22 23 24 25 26      18 19 20 21 22 23 24      22 23 24 25 26 27 28\n",
      "27 28 29 30               25 26 27 28 29 30 31      29 30\n",
      "\n",
      "        July                     August                  September\n",
      "Mo Tu We Th Fr Sa Su      Mo Tu We Th Fr Sa Su      Mo Tu We Th Fr Sa Su\n",
      "       1  2  3  4  5                      1  2          1  2  3  4  5  6\n",
      " 6  7  8  9 10 11 12       3  4  5  6  7  8  9       7  8  9 10 11 12 13\n",
      "13 14 15 16 17 18 19      10 11 12 13 14 15 16      14 15 16 17 18 19 20\n",
      "20 21 22 23 24 25 26      17 18 19 20 21 22 23      21 22 23 24 25 26 27\n",
      "27 28 29 30 31            24 25 26 27 28 29 30      28 29 30\n",
      "                          31\n",
      "\n",
      "      October                   November                  December\n",
      "Mo Tu We Th Fr Sa Su      Mo Tu We Th Fr Sa Su      Mo Tu We Th Fr Sa Su\n",
      "          1  2  3  4                         1          1  2  3  4  5  6\n",
      " 5  6  7  8  9 10 11       2  3  4  5  6  7  8       7  8  9 10 11 12 13\n",
      "12 13 14 15 16 17 18       9 10 11 12 13 14 15      14 15 16 17 18 19 20\n",
      "19 20 21 22 23 24 25      16 17 18 19 20 21 22      21 22 23 24 25 26 27\n",
      "26 27 28 29 30 31         23 24 25 26 27 28 29      28 29 30 31\n",
      "                          30\n",
      "\n"
     ]
    }
   ],
   "source": [
    "import calendar\n",
    "\n",
    "year = 2020\n",
    "month = 5\n",
    "\n",
    "print(calendar.month(year,month))\n",
    "print(calendar.calendar(year))"
   ]
  },
  {
   "cell_type": "markdown",
   "id": "11426206",
   "metadata": {},
   "source": [
    "4.Write a program to solve quadratic equation?\n"
   ]
  },
  {
   "cell_type": "code",
   "execution_count": 20,
   "id": "f4d46d36",
   "metadata": {},
   "outputs": [
    {
     "name": "stdout",
     "output_type": "stream",
     "text": [
      "ax^2 + bx + c =0\n",
      "Enter the coefficient a,b and c\n",
      "Enter the coef a= 2\n",
      "Enter the coef b= 4\n",
      "Enter the coef c= -5\n",
      "\n",
      " Quad.Eq. 2^2 + 4^1 + -5\n",
      "The solutions are: 0.8708286933869707 and -2.8708286933869704 \n"
     ]
    }
   ],
   "source": [
    "import math\n",
    "\n",
    "print(\"ax^2 + bx + c =0\")\n",
    "print(\"Enter the coefficient a,b and c\")\n",
    "\n",
    "a = int(input(\"Enter the coef a= \"))\n",
    "b = int(input(\"Enter the coef b= \"))\n",
    "c = int(input(\"Enter the coef c= \"))\n",
    "\n",
    "d = (b**2) - (4*a*c)\n",
    "root1 = ((-1*b)+(math.sqrt(d))) /(2*a)\n",
    "root2 = ((-1*b)-(math.sqrt(d))) /(2*a)\n",
    "\n",
    "print(\"\\n Quad.Eq. {}^2 + {}^1 + {}\".format(a,b,c))\n",
    "print(\"The solutions are: {} and {} \".format(root1,root2))"
   ]
  },
  {
   "cell_type": "markdown",
   "id": "8b6727f5",
   "metadata": {},
   "source": [
    "5. Write a program to swap variables without temp?\n"
   ]
  },
  {
   "cell_type": "code",
   "execution_count": 30,
   "id": "1c0941e1",
   "metadata": {},
   "outputs": [
    {
     "name": "stdout",
     "output_type": "stream",
     "text": [
      "Before swap:\n",
      "var1 = 2 and var2 = 4\n",
      "After swap:\n",
      "var1 = 4 and var2 = 2\n"
     ]
    }
   ],
   "source": [
    "var1 = a\n",
    "var2 = b\n",
    "print('Before swap:\\nvar1 = {} and var2 = {}'.format(var1, var2))\n",
    "\n",
    "var2 = var1 + var2\n",
    "var1 = var2 - var1\n",
    "var2 = var2 - var1\n",
    "\n",
    "print('After swap:\\nvar1 = {} and var2 = {}'.format(var1, var2))"
   ]
  },
  {
   "cell_type": "code",
   "execution_count": null,
   "id": "37302e5d",
   "metadata": {},
   "outputs": [],
   "source": []
  }
 ],
 "metadata": {
  "kernelspec": {
   "display_name": "Python 3 (ipykernel)",
   "language": "python",
   "name": "python3"
  },
  "language_info": {
   "codemirror_mode": {
    "name": "ipython",
    "version": 3
   },
   "file_extension": ".py",
   "mimetype": "text/x-python",
   "name": "python",
   "nbconvert_exporter": "python",
   "pygments_lexer": "ipython3",
   "version": "3.9.7"
  }
 },
 "nbformat": 4,
 "nbformat_minor": 5
}

{
 "cells": [
  {
   "cell_type": "markdown",
   "id": "6c3e3670",
   "metadata": {},
   "source": [
    "# Programming Assignment - 8"
   ]
  },
  {
   "cell_type": "markdown",
   "id": "49c065bb",
   "metadata": {},
   "source": [
    "1. Write a python program to Add Two Matrices?"
   ]
  },
  {
   "cell_type": "code",
   "execution_count": 2,
   "id": "9303c597",
   "metadata": {},
   "outputs": [
    {
     "name": "stdout",
     "output_type": "stream",
     "text": [
      "[5, 7, 10]\n",
      "[7, 9, 11]\n",
      "[14, 9, 11]\n"
     ]
    }
   ],
   "source": [
    "A = [[3,4,5],\n",
    "    [4,5,6],\n",
    "    [5,6,7]]\n",
    "\n",
    "B = [[2,3,5],\n",
    "    [3,4,5],\n",
    "    [9,3,4]]\n",
    "\n",
    "result = [[0,0,0],\n",
    "         [0,0,0],\n",
    "         [0,0,0]]\n",
    "\n",
    "for i in range(len(A)):\n",
    "    for j in range(len(A[0])):\n",
    "        result[i][j] = A[i][j] + B[i][j]\n",
    "        \n",
    "for r in result:\n",
    "    print(r)"
   ]
  },
  {
   "cell_type": "markdown",
   "id": "3aea5377",
   "metadata": {},
   "source": [
    "2. Write a python program to Multiply two Matrices?"
   ]
  },
  {
   "cell_type": "code",
   "execution_count": 4,
   "id": "6e207125",
   "metadata": {},
   "outputs": [
    {
     "name": "stdout",
     "output_type": "stream",
     "text": [
      "[45, 15, 20]\n",
      "[54, 18, 24]\n",
      "[63, 21, 28]\n"
     ]
    }
   ],
   "source": [
    "A = [[3,4,5],\n",
    "    [4,5,6],\n",
    "    [5,6,7]]\n",
    "\n",
    "B = [[2,3,5],\n",
    "    [3,4,5],\n",
    "    [9,3,4]]\n",
    "\n",
    "result = [[0,0,0],\n",
    "         [0,0,0],\n",
    "         [0,0,0]]\n",
    "for i in range(len(A)):\n",
    "    for j in range(len(B[0])):\n",
    "        for k in range(len(B)):\n",
    "            result[i][j] = A[i][k] * B[k][j]\n",
    "\n",
    "for r in result:\n",
    "    print(r)"
   ]
  },
  {
   "cell_type": "markdown",
   "id": "b71c750b",
   "metadata": {},
   "source": [
    "3. Write a python program to Transpose a Matrix? "
   ]
  },
  {
   "cell_type": "code",
   "execution_count": 6,
   "id": "54485078",
   "metadata": {},
   "outputs": [
    {
     "name": "stdout",
     "output_type": "stream",
     "text": [
      "[3, 4, 7]\n",
      "[4, 5, 6]\n",
      "[5, 6, 7]\n"
     ]
    }
   ],
   "source": [
    "A = [[3,4,5],\n",
    "    [4,5,6],\n",
    "    [7,6,7]]\n",
    "\n",
    "result = [[0,0,0],\n",
    "         [0,0,0],\n",
    "         [0,0,0]]\n",
    "\n",
    "for i in range(len(A)):\n",
    "    for j in range(len(A[0])):\n",
    "        result[j][i]= A[i][j]\n",
    "        \n",
    "for r in result:\n",
    "    print(r)"
   ]
  },
  {
   "cell_type": "markdown",
   "id": "0c0fc02d",
   "metadata": {},
   "source": [
    "4. Write a python program to sort words in Alphabetic Order?"
   ]
  },
  {
   "cell_type": "code",
   "execution_count": 8,
   "id": "0c4a9b6a",
   "metadata": {},
   "outputs": [
    {
     "name": "stdout",
     "output_type": "stream",
     "text": [
      "Enter the Words: There is no change in the world\n",
      "Alphabetic order of Words: \n",
      "change in is no the there world "
     ]
    }
   ],
   "source": [
    "try:\n",
    "    sentence = input(\"Enter the Words: \")\n",
    "    Words = [Word.lower() for Word in sentence.split()]\n",
    "    Words.sort()\n",
    "    \n",
    "    print(\"Alphabetic order of Words: \")\n",
    "    for Word in Words:\n",
    "        print(Word, end =' ')\n",
    "\n",
    "except Exception as e:\n",
    "    print(e)"
   ]
  },
  {
   "cell_type": "markdown",
   "id": "85f2722c",
   "metadata": {},
   "source": [
    "5. Write a pythoon program to Remove Punctuation from a String?"
   ]
  },
  {
   "cell_type": "code",
   "execution_count": 10,
   "id": "17a96166",
   "metadata": {},
   "outputs": [
    {
     "name": "stdout",
     "output_type": "stream",
     "text": [
      "Enter the string: Some$ Hello# World^ Cat)\n",
      "Some Hello World Cat\n"
     ]
    }
   ],
   "source": [
    "punctuations = '''!()-[]{};:'\"\\,<>./?@#$%^&*_~'''\n",
    "\n",
    "string = input(\"Enter the string: \")\n",
    "outputstring = \"\"\n",
    "\n",
    "for char in string:\n",
    "    if char not in punctuations:\n",
    "        outputstring += char\n",
    "        \n",
    "print(outputstring)"
   ]
  },
  {
   "cell_type": "code",
   "execution_count": null,
   "id": "561fc106",
   "metadata": {},
   "outputs": [],
   "source": []
  }
 ],
 "metadata": {
  "kernelspec": {
   "display_name": "Python 3 (ipykernel)",
   "language": "python",
   "name": "python3"
  },
  "language_info": {
   "codemirror_mode": {
    "name": "ipython",
    "version": 3
   },
   "file_extension": ".py",
   "mimetype": "text/x-python",
   "name": "python",
   "nbconvert_exporter": "python",
   "pygments_lexer": "ipython3",
   "version": "3.9.7"
  }
 },
 "nbformat": 4,
 "nbformat_minor": 5
}

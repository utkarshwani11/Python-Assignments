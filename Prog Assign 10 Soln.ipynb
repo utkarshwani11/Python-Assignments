{
 "cells": [
  {
   "cell_type": "markdown",
   "id": "d8ec97b5",
   "metadata": {},
   "source": [
    "# Programming Assignments - 10 "
   ]
  },
  {
   "cell_type": "markdown",
   "id": "0b8eccad",
   "metadata": {},
   "source": [
    "1 Write a Python Program to find sum of elements in the list?"
   ]
  },
  {
   "cell_type": "code",
   "execution_count": 3,
   "id": "bc86e250",
   "metadata": {},
   "outputs": [
    {
     "name": "stdout",
     "output_type": "stream",
     "text": [
      "36\n"
     ]
    }
   ],
   "source": [
    "l=[2,3,4,5,6,7,9]\n",
    "sum = 0\n",
    "for i in l:\n",
    "    sum += i\n",
    "print(sum)"
   ]
  },
  {
   "cell_type": "markdown",
   "id": "09006c77",
   "metadata": {},
   "source": [
    "2 Write a Python program to Multiply all the numbers in the list?"
   ]
  },
  {
   "cell_type": "code",
   "execution_count": 4,
   "id": "dfad42cb",
   "metadata": {},
   "outputs": [
    {
     "name": "stdout",
     "output_type": "stream",
     "text": [
      "240\n"
     ]
    }
   ],
   "source": [
    "l=[4,5,6,2]\n",
    "mul = 1\n",
    "for i in l:\n",
    "    mul *= i\n",
    "print(mul)"
   ]
  },
  {
   "cell_type": "markdown",
   "id": "b4946e6b",
   "metadata": {},
   "source": [
    "3 Write a Python program to find smallest numbers in the list?"
   ]
  },
  {
   "cell_type": "code",
   "execution_count": 13,
   "id": "adf695ca",
   "metadata": {},
   "outputs": [
    {
     "name": "stdout",
     "output_type": "stream",
     "text": [
      "2\n"
     ]
    }
   ],
   "source": [
    "l=[34,546,5434,657,2,334]\n",
    "\n",
    "min = l[0]\n",
    "for i in l:\n",
    "    if i < min:\n",
    "        min = i\n",
    "print(min)"
   ]
  },
  {
   "cell_type": "markdown",
   "id": "51fbb31c",
   "metadata": {},
   "source": [
    "4 Write a Python program to find largest number in the list?"
   ]
  },
  {
   "cell_type": "code",
   "execution_count": 15,
   "id": "34da391d",
   "metadata": {},
   "outputs": [
    {
     "name": "stdout",
     "output_type": "stream",
     "text": [
      "545\n"
     ]
    }
   ],
   "source": [
    "l = [123,34,545,57,6]\n",
    "\n",
    "max = l[0]\n",
    "for i in l:\n",
    "    if i > max:\n",
    "        max = i\n",
    "print(max)"
   ]
  },
  {
   "cell_type": "markdown",
   "id": "804cc005",
   "metadata": {},
   "source": [
    "5 Write a Python program to find second largest number in the list?"
   ]
  },
  {
   "cell_type": "code",
   "execution_count": 23,
   "id": "14ed80f9",
   "metadata": {},
   "outputs": [
    {
     "name": "stdout",
     "output_type": "stream",
     "text": [
      "Second Largest No:  236\n"
     ]
    }
   ],
   "source": [
    "l= [23,45,236,5,6756]\n",
    "\n",
    "l.sort(reverse=True)\n",
    "print(\"Second Largest No: \",l[1])"
   ]
  },
  {
   "cell_type": "markdown",
   "id": "ab6df4f5",
   "metadata": {},
   "source": [
    "6 Write a Python program to find N largest elements from a list?"
   ]
  },
  {
   "cell_type": "code",
   "execution_count": 30,
   "id": "4009ab45",
   "metadata": {},
   "outputs": [],
   "source": [
    "def Nth_Large(lst,n):\n",
    "    lst.sort(reverse=True)\n",
    "    return lst[n-1]"
   ]
  },
  {
   "cell_type": "code",
   "execution_count": 32,
   "id": "7e89cffe",
   "metadata": {},
   "outputs": [
    {
     "data": {
      "text/plain": [
       "23"
      ]
     },
     "execution_count": 32,
     "metadata": {},
     "output_type": "execute_result"
    }
   ],
   "source": [
    "# 2nd largest Number\n",
    "l= [2,3,4,-34,23,24,4,5]\n",
    "Nth_Large(l,2)"
   ]
  },
  {
   "cell_type": "code",
   "execution_count": 33,
   "id": "a18a8485",
   "metadata": {},
   "outputs": [
    {
     "data": {
      "text/plain": [
       "5"
      ]
     },
     "execution_count": 33,
     "metadata": {},
     "output_type": "execute_result"
    }
   ],
   "source": [
    "# 3rd Largest Number\n",
    "l= [2,3,4,-34,23,24,4,5]\n",
    "Nth_Large(l,3)"
   ]
  },
  {
   "cell_type": "markdown",
   "id": "9dd25e93",
   "metadata": {},
   "source": [
    "7 Write a Python program to print Even numbers in a list?"
   ]
  },
  {
   "cell_type": "code",
   "execution_count": 35,
   "id": "5aa695a2",
   "metadata": {},
   "outputs": [
    {
     "data": {
      "text/plain": [
       "[4, 56, 66]"
      ]
     },
     "execution_count": 35,
     "metadata": {},
     "output_type": "execute_result"
    }
   ],
   "source": [
    "l =[23,3,4,56,7,67,9,4545,33445,66,67,67]\n",
    "[i for i in l if i%2 == 0]"
   ]
  },
  {
   "cell_type": "markdown",
   "id": "67bacfeb",
   "metadata": {},
   "source": [
    "8 Write a Python program to print Odd numbers in a list?"
   ]
  },
  {
   "cell_type": "code",
   "execution_count": 36,
   "id": "86844585",
   "metadata": {},
   "outputs": [
    {
     "data": {
      "text/plain": [
       "[623, 67, 77]"
      ]
     },
     "execution_count": 36,
     "metadata": {},
     "output_type": "execute_result"
    }
   ],
   "source": [
    "l=[34,56,623,4556,67,77]\n",
    "[i for i in l if i%2 == 1]"
   ]
  },
  {
   "cell_type": "markdown",
   "id": "471c003c",
   "metadata": {},
   "source": [
    "9 Write a Python program to Remove empty List from List?"
   ]
  },
  {
   "cell_type": "code",
   "execution_count": 39,
   "id": "7345e15b",
   "metadata": {},
   "outputs": [
    {
     "data": {
      "text/plain": [
       "[1, 2, 21, [2, 3, 4], [23, 34], [2, 45, 7], [34, 45, 65]]"
      ]
     },
     "execution_count": 39,
     "metadata": {},
     "output_type": "execute_result"
    }
   ],
   "source": [
    "l= [1,2,21,[2,3,4],[23,34],[],[2,45,7],[],[34,45,65],[]]\n",
    "\n",
    "result = []\n",
    "for i in l:\n",
    "    if type(i) == list:\n",
    "        if len(i) != 0:\n",
    "            result.append(i)\n",
    "    else:\n",
    "        result.append(i)\n",
    "result"
   ]
  },
  {
   "cell_type": "markdown",
   "id": "1cb8eff3",
   "metadata": {},
   "source": [
    "10 Write a Python program to cloning or copiyng a list?"
   ]
  },
  {
   "cell_type": "code",
   "execution_count": 40,
   "id": "db2a7625",
   "metadata": {},
   "outputs": [
    {
     "name": "stdout",
     "output_type": "stream",
     "text": [
      "[232, 344, 567, 565534, 79, -23]\n"
     ]
    }
   ],
   "source": [
    "list1 = [232,344,567,565534,79,-23]\n",
    "list2 = []\n",
    "\n",
    "for i in list1:\n",
    "    list2.append(i)\n",
    "    \n",
    "print(list2)"
   ]
  },
  {
   "cell_type": "markdown",
   "id": "2323eb25",
   "metadata": {},
   "source": [
    "11 Write a Python program to Count occurences of an element in a list?"
   ]
  },
  {
   "cell_type": "code",
   "execution_count": 41,
   "id": "650689b9",
   "metadata": {},
   "outputs": [],
   "source": [
    "l = [1,2,3,1,1,2,3,4,5,6,34,5,6,1]\n",
    "\n",
    "def Occurences(lst,element):\n",
    "    count= 0\n",
    "    for i in l:\n",
    "        if i == element:\n",
    "            count += 1\n",
    "        \n",
    "    return count"
   ]
  },
  {
   "cell_type": "code",
   "execution_count": 42,
   "id": "ff252452",
   "metadata": {},
   "outputs": [
    {
     "data": {
      "text/plain": [
       "4"
      ]
     },
     "execution_count": 42,
     "metadata": {},
     "output_type": "execute_result"
    }
   ],
   "source": [
    "Occurences(l,1)"
   ]
  },
  {
   "cell_type": "code",
   "execution_count": 43,
   "id": "77b02df4",
   "metadata": {},
   "outputs": [
    {
     "data": {
      "text/plain": [
       "2"
      ]
     },
     "execution_count": 43,
     "metadata": {},
     "output_type": "execute_result"
    }
   ],
   "source": [
    "Occurences(l,2)"
   ]
  },
  {
   "cell_type": "code",
   "execution_count": null,
   "id": "d612cad7",
   "metadata": {},
   "outputs": [],
   "source": []
  }
 ],
 "metadata": {
  "kernelspec": {
   "display_name": "Python 3 (ipykernel)",
   "language": "python",
   "name": "python3"
  },
  "language_info": {
   "codemirror_mode": {
    "name": "ipython",
    "version": 3
   },
   "file_extension": ".py",
   "mimetype": "text/x-python",
   "name": "python",
   "nbconvert_exporter": "python",
   "pygments_lexer": "ipython3",
   "version": "3.9.7"
  }
 },
 "nbformat": 4,
 "nbformat_minor": 5
}

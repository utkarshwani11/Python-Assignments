{
 "cells": [
  {
   "cell_type": "markdown",
   "id": "3a298b86",
   "metadata": {},
   "source": [
    "# Programming Assignments - 9"
   ]
  },
  {
   "cell_type": "markdown",
   "id": "d160c72f",
   "metadata": {},
   "source": [
    "1 Write a python program to check the given number is Disarium Number?"
   ]
  },
  {
   "cell_type": "code",
   "execution_count": 5,
   "id": "18c337bd",
   "metadata": {},
   "outputs": [
    {
     "name": "stdout",
     "output_type": "stream",
     "text": [
      "89\n",
      "Disarium Number\n"
     ]
    }
   ],
   "source": [
    "n = input()\n",
    "len_n = len(n) \n",
    "n= int(n)\n",
    "copy_n = n\n",
    "result = 0\n",
    "i = len_n\n",
    "\n",
    "while(n!=0):\n",
    "    digit = n%10\n",
    "    result= result + pow(digit,i)\n",
    "    n=int(n/10)\n",
    "    i = i - 1\n",
    "    \n",
    "if(result==copy_n):\n",
    "    print(\"Disarium Number\")\n",
    "else:\n",
    "    print(\"Not a Disarium Number\")"
   ]
  },
  {
   "cell_type": "markdown",
   "id": "c8685a40",
   "metadata": {},
   "source": [
    "2 Write a python program to print all disarium numbers between 1 to 100?"
   ]
  },
  {
   "cell_type": "code",
   "execution_count": 10,
   "id": "31fdad97",
   "metadata": {},
   "outputs": [
    {
     "name": "stdout",
     "output_type": "stream",
     "text": [
      "Enter the Minimum Number:  1\n",
      "Enter the Maximum Number:  100\n",
      "\n",
      " List all the numbers between 1 and 100\n",
      "1 2 3 4 5 6 7 8 9 89 "
     ]
    }
   ],
   "source": [
    "import math\n",
    "def digitsCount(num):\n",
    "    len = 0\n",
    "    while num!=0:\n",
    "        len = len + 1\n",
    "        num = num//10\n",
    "    return len\n",
    "\n",
    "def digitsSum(num):\n",
    "    Sum = 0\n",
    "    rem = 0\n",
    "    len = digitsCount(num)\n",
    "    while num > 0:\n",
    "        rem = num%10\n",
    "        Sum = Sum + math.pow(rem,len)\n",
    "        num = num//10\n",
    "        len = len - 1\n",
    "    return Sum\n",
    "\n",
    "min = int(input(\"Enter the Minimum Number:  \"))\n",
    "max = int(input(\"Enter the Maximum Number:  \"))\n",
    "print(\"\\n List all the numbers between {0} and {1}\".format(min,max))\n",
    "for i in range(min, max):\n",
    "    Sum = digitsSum(i)\n",
    "    if Sum==i:\n",
    "        print(i,end=' ')\n",
    "    "
   ]
  },
  {
   "cell_type": "markdown",
   "id": "f1c847dc",
   "metadata": {},
   "source": [
    "3 Write a python program to check if the given number is Happy Number?"
   ]
  },
  {
   "cell_type": "code",
   "execution_count": 20,
   "id": "37130547",
   "metadata": {},
   "outputs": [],
   "source": [
    "def numH(num):\n",
    "    \n",
    "    res = num; \n",
    "    def isHappy(num):    \n",
    "        r = 0;  \n",
    "        s = 0\n",
    "        while(num > 0):    \n",
    "            r = num%10    \n",
    "            s += r**2  \n",
    "            num //= 10    \n",
    "        return s     \n",
    "\n",
    "    while(res != 1 and res != 4):    \n",
    "        res = isHappy(res)    \n",
    "\n",
    "    if(res == 1):    \n",
    "        return True\n",
    "    elif(res == 4):    \n",
    "        return False"
   ]
  },
  {
   "cell_type": "code",
   "execution_count": 21,
   "id": "e4bd66be",
   "metadata": {},
   "outputs": [
    {
     "data": {
      "text/plain": [
       "True"
      ]
     },
     "execution_count": 21,
     "metadata": {},
     "output_type": "execute_result"
    }
   ],
   "source": [
    "numH(13)"
   ]
  },
  {
   "cell_type": "code",
   "execution_count": 22,
   "id": "f8bf1bde",
   "metadata": {},
   "outputs": [
    {
     "data": {
      "text/plain": [
       "False"
      ]
     },
     "execution_count": 22,
     "metadata": {},
     "output_type": "execute_result"
    }
   ],
   "source": [
    "numH(12)"
   ]
  },
  {
   "cell_type": "markdown",
   "id": "93fe93fb",
   "metadata": {},
   "source": [
    "4 Write a python program to Print all Happy numbers between 1 to 100?"
   ]
  },
  {
   "cell_type": "code",
   "execution_count": 24,
   "id": "1ed90077",
   "metadata": {},
   "outputs": [
    {
     "name": "stdout",
     "output_type": "stream",
     "text": [
      "1 7 10 13 19 23 28 31 32 44 49 68 70 79 82 86 91 94 97 100 "
     ]
    }
   ],
   "source": [
    "for i in range(1,101):\n",
    "    if numH(i) == True:\n",
    "        print(i,end=' ')\n",
    "    "
   ]
  },
  {
   "cell_type": "markdown",
   "id": "3bae29da",
   "metadata": {},
   "source": [
    "5 Write a python program to determine whether the given number is Harshed Number?"
   ]
  },
  {
   "cell_type": "code",
   "execution_count": 25,
   "id": "65a3383f",
   "metadata": {},
   "outputs": [],
   "source": [
    "def Har_Num(num):\n",
    "    temp = num\n",
    "    total = 0\n",
    "    while (temp > 0):\n",
    "        total = total + (temp%10)\n",
    "        temp = temp//10\n",
    "        \n",
    "    if num%total==0:\n",
    "        print(\"Harshad Number\")\n",
    "    else:\n",
    "        print(\"Not Harshad Number\")"
   ]
  },
  {
   "cell_type": "code",
   "execution_count": 26,
   "id": "1594f876",
   "metadata": {},
   "outputs": [
    {
     "name": "stdout",
     "output_type": "stream",
     "text": [
      "Harshad Number\n"
     ]
    }
   ],
   "source": [
    "Har_Num(12)"
   ]
  },
  {
   "cell_type": "code",
   "execution_count": 27,
   "id": "778bfa13",
   "metadata": {},
   "outputs": [
    {
     "name": "stdout",
     "output_type": "stream",
     "text": [
      "Not Harshad Number\n"
     ]
    }
   ],
   "source": [
    "Har_Num(14)"
   ]
  },
  {
   "cell_type": "markdown",
   "id": "eec05853",
   "metadata": {},
   "source": [
    "6 Write a python program to print all Pronic Numbers between 1 to 100?"
   ]
  },
  {
   "cell_type": "code",
   "execution_count": 28,
   "id": "a714fe06",
   "metadata": {},
   "outputs": [
    {
     "name": "stdout",
     "output_type": "stream",
     "text": [
      "0 2 6 12 20 30 42 56 72 90 "
     ]
    }
   ],
   "source": [
    "i = 0\n",
    "while True:\n",
    "    pronicNum = i*(i+1)\n",
    "    i = i + 1\n",
    "    if pronicNum > 100:\n",
    "        break\n",
    "    print(pronicNum, end = ' ')"
   ]
  },
  {
   "cell_type": "code",
   "execution_count": null,
   "id": "54c04502",
   "metadata": {},
   "outputs": [],
   "source": []
  }
 ],
 "metadata": {
  "kernelspec": {
   "display_name": "Python 3 (ipykernel)",
   "language": "python",
   "name": "python3"
  },
  "language_info": {
   "codemirror_mode": {
    "name": "ipython",
    "version": 3
   },
   "file_extension": ".py",
   "mimetype": "text/x-python",
   "name": "python",
   "nbconvert_exporter": "python",
   "pygments_lexer": "ipython3",
   "version": "3.9.7"
  }
 },
 "nbformat": 4,
 "nbformat_minor": 5
}

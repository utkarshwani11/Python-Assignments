{
 "cells": [
  {
   "cell_type": "markdown",
   "id": "4398a5af",
   "metadata": {},
   "source": [
    "# Programming Assignment - 6"
   ]
  },
  {
   "cell_type": "markdown",
   "id": "4527c44c",
   "metadata": {},
   "source": [
    "1.Write a python program to Display Fibonacci sequence using Recursion?"
   ]
  },
  {
   "cell_type": "code",
   "execution_count": 9,
   "id": "3e85c860",
   "metadata": {},
   "outputs": [],
   "source": [
    "def Fibonacci(n):\n",
    "    if n < 0:\n",
    "        print(\"Incorrect Input\")\n",
    "    elif n ==0:\n",
    "        return 0\n",
    "    elif n==1 or n==2:\n",
    "        return 1\n",
    "    else:\n",
    "        return(Fibonacci(n-1) + Fibonacci(n-2))"
   ]
  },
  {
   "cell_type": "code",
   "execution_count": 15,
   "id": "c5ad72a1",
   "metadata": {},
   "outputs": [
    {
     "data": {
      "text/plain": [
       "55"
      ]
     },
     "execution_count": 15,
     "metadata": {},
     "output_type": "execute_result"
    }
   ],
   "source": [
    "Fibonacci(10)"
   ]
  },
  {
   "cell_type": "markdown",
   "id": "4e72166c",
   "metadata": {},
   "source": [
    "2. Write a python program to Find a Factorial of a number using Recursion?"
   ]
  },
  {
   "cell_type": "code",
   "execution_count": 16,
   "id": "821cd4df",
   "metadata": {},
   "outputs": [],
   "source": [
    "def Fact(n):\n",
    "    if n==0:\n",
    "        return 1\n",
    "    else:\n",
    "        return n*Fact(n-1)"
   ]
  },
  {
   "cell_type": "code",
   "execution_count": 17,
   "id": "ac1c0abc",
   "metadata": {},
   "outputs": [
    {
     "data": {
      "text/plain": [
       "120"
      ]
     },
     "execution_count": 17,
     "metadata": {},
     "output_type": "execute_result"
    }
   ],
   "source": [
    "Fact(5)"
   ]
  },
  {
   "cell_type": "code",
   "execution_count": 18,
   "id": "9bc9b090",
   "metadata": {},
   "outputs": [
    {
     "data": {
      "text/plain": [
       "362880"
      ]
     },
     "execution_count": 18,
     "metadata": {},
     "output_type": "execute_result"
    }
   ],
   "source": [
    "Fact(9)"
   ]
  },
  {
   "cell_type": "markdown",
   "id": "f41fdd7e",
   "metadata": {},
   "source": [
    "3. Write a python program to Calculate Body Mass Index?"
   ]
  },
  {
   "cell_type": "code",
   "execution_count": 19,
   "id": "85001ce2",
   "metadata": {},
   "outputs": [],
   "source": [
    "def BMI(Height,Weight):\n",
    "    \n",
    "    return Weight/(Height*Height)"
   ]
  },
  {
   "cell_type": "code",
   "execution_count": 20,
   "id": "640d5b02",
   "metadata": {},
   "outputs": [
    {
     "data": {
      "text/plain": [
       "17.5"
      ]
     },
     "execution_count": 20,
     "metadata": {},
     "output_type": "execute_result"
    }
   ],
   "source": [
    "BMI(2,70)"
   ]
  },
  {
   "cell_type": "markdown",
   "id": "c615566b",
   "metadata": {},
   "source": [
    "4. Write a python program to calculate Natural Logarithm of any number?"
   ]
  },
  {
   "cell_type": "code",
   "execution_count": 26,
   "id": "4d804a67",
   "metadata": {},
   "outputs": [
    {
     "name": "stdout",
     "output_type": "stream",
     "text": [
      "Enter the number: 10\n",
      "2.302585092994046\n"
     ]
    }
   ],
   "source": [
    "import math\n",
    "\n",
    "try:\n",
    "    num = int(input(\"Enter the number: \"))\n",
    "except Exception as e:\n",
    "    print(e)\n",
    "else:\n",
    "    print(math.log(num))"
   ]
  },
  {
   "cell_type": "markdown",
   "id": "4edb72bb",
   "metadata": {},
   "source": [
    "5.Write a pythonn program for cube of sum of first 'n' natural numbers"
   ]
  },
  {
   "cell_type": "code",
   "execution_count": 23,
   "id": "d061012a",
   "metadata": {},
   "outputs": [],
   "source": [
    "def Cube(n):\n",
    "    return sum(range(n+1))**3"
   ]
  },
  {
   "cell_type": "code",
   "execution_count": 24,
   "id": "d40b5216",
   "metadata": {},
   "outputs": [
    {
     "data": {
      "text/plain": [
       "1000"
      ]
     },
     "execution_count": 24,
     "metadata": {},
     "output_type": "execute_result"
    }
   ],
   "source": [
    "Cube(4)"
   ]
  },
  {
   "cell_type": "code",
   "execution_count": 25,
   "id": "7c223223",
   "metadata": {},
   "outputs": [
    {
     "data": {
      "text/plain": [
       "9261"
      ]
     },
     "execution_count": 25,
     "metadata": {},
     "output_type": "execute_result"
    }
   ],
   "source": [
    "Cube(6)"
   ]
  },
  {
   "cell_type": "code",
   "execution_count": null,
   "id": "50c82930",
   "metadata": {},
   "outputs": [],
   "source": []
  }
 ],
 "metadata": {
  "kernelspec": {
   "display_name": "Python 3 (ipykernel)",
   "language": "python",
   "name": "python3"
  },
  "language_info": {
   "codemirror_mode": {
    "name": "ipython",
    "version": 3
   },
   "file_extension": ".py",
   "mimetype": "text/x-python",
   "name": "python",
   "nbconvert_exporter": "python",
   "pygments_lexer": "ipython3",
   "version": "3.9.7"
  }
 },
 "nbformat": 4,
 "nbformat_minor": 5
}

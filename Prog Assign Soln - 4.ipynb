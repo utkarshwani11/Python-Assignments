{
 "cells": [
  {
   "cell_type": "markdown",
   "id": "b33eae56",
   "metadata": {},
   "source": [
    "# Programming Assignments- 4"
   ]
  },
  {
   "cell_type": "markdown",
   "id": "66cea6f9",
   "metadata": {},
   "source": [
    "1. Write a Python program to find a factorial of a number?"
   ]
  },
  {
   "cell_type": "code",
   "execution_count": 1,
   "id": "d8b15756",
   "metadata": {},
   "outputs": [
    {
     "name": "stdout",
     "output_type": "stream",
     "text": [
      "Enter a Number: 7\n",
      "\n",
      "Factorial of 7: 5040\n"
     ]
    }
   ],
   "source": [
    "num = int(input(\"Enter a Number: \"))\n",
    "fact = 1\n",
    "for i in range(num,0,-1):\n",
    "    fact = fact*i\n",
    "    \n",
    "print(\"\\nFactorial of {}: {}\".format(num,fact))"
   ]
  },
  {
   "cell_type": "markdown",
   "id": "2f398acb",
   "metadata": {},
   "source": [
    "2.Write a Python program to display a multiplication table?"
   ]
  },
  {
   "cell_type": "code",
   "execution_count": 2,
   "id": "398b9319",
   "metadata": {},
   "outputs": [
    {
     "name": "stdout",
     "output_type": "stream",
     "text": [
      "Enter a Number: 4\n",
      "4 x 1 = 4\n",
      "4 x 2 = 8\n",
      "4 x 3 = 12\n",
      "4 x 4 = 16\n",
      "4 x 5 = 20\n",
      "4 x 6 = 24\n",
      "4 x 7 = 28\n",
      "4 x 8 = 32\n",
      "4 x 9 = 36\n",
      "4 x 10 = 40\n"
     ]
    }
   ],
   "source": [
    "num = int(input(\"Enter a Number: \"))\n",
    "\n",
    "for i in range(1,11):\n",
    "    print(\"{} x {} = {}\".format(num,i,num*i))"
   ]
  },
  {
   "cell_type": "markdown",
   "id": "22afcfdf",
   "metadata": {},
   "source": [
    "3.Write a Python program to print a Fibonacci Sequence?"
   ]
  },
  {
   "cell_type": "code",
   "execution_count": 4,
   "id": "55304264",
   "metadata": {},
   "outputs": [
    {
     "name": "stdout",
     "output_type": "stream",
     "text": [
      "Enter a Length: 23\n",
      "1 2 3 5 8 13 21 34 55 89 144 233 377 610 987 1597 2584 4181 6765 10946 17711 28657 46368 \n"
     ]
    }
   ],
   "source": [
    "n = int(input(\"Enter a Length: \"))\n",
    "n1 = 0\n",
    "n2 = 1\n",
    "next_num = n2\n",
    "count = 1\n",
    "\n",
    "while count <= n:\n",
    "    print(next_num, end = ' ')\n",
    "    count += 1\n",
    "    n1,n2 = n2,next_num\n",
    "    next_num = n1 + n2\n",
    "print()"
   ]
  },
  {
   "cell_type": "markdown",
   "id": "25f2e547",
   "metadata": {},
   "source": [
    "4. Write a Python program to check Armstrong Number?\n"
   ]
  },
  {
   "cell_type": "code",
   "execution_count": 11,
   "id": "54d68fff",
   "metadata": {},
   "outputs": [
    {
     "name": "stdout",
     "output_type": "stream",
     "text": [
      "Enter a Number: 1634\n",
      "1634 is an Armstrong number\n"
     ]
    }
   ],
   "source": [
    "num = int(input(\"Enter a Number: \"))\n",
    "\n",
    "order = len(str(num))\n",
    "sum = 0\n",
    "\n",
    "temp = num\n",
    "while temp > 0:\n",
    "    digit = temp % 10\n",
    "    sum += digit**order\n",
    "    temp //= 10\n",
    "    \n",
    "if num == sum:\n",
    "    print(num,\"is an Armstrong number\")\n",
    "else:\n",
    "    print(num,\"is not an Armstrong number\")\n",
    "    "
   ]
  },
  {
   "cell_type": "markdown",
   "id": "1fcc3f94",
   "metadata": {},
   "source": [
    "5. Write a Python program to Find Armstrong Number in an Interval?"
   ]
  },
  {
   "cell_type": "code",
   "execution_count": 14,
   "id": "ef8ac6aa",
   "metadata": {},
   "outputs": [
    {
     "name": "stdout",
     "output_type": "stream",
     "text": [
      "Enter the lower value: 100\n",
      "Enter the Upper value: 2000\n",
      "153\n",
      "370\n",
      "371\n",
      "407\n",
      "1634\n"
     ]
    }
   ],
   "source": [
    "Lower = int(input(\"Enter the lower value: \"))\n",
    "Upper = int(input(\"Enter the Upper value: \"))\n",
    "\n",
    "for num in range(Lower,Upper +1):\n",
    "    \n",
    "    order = len(str(num))\n",
    "    sum = 0\n",
    "\n",
    "    temp = num\n",
    "    while temp > 0:\n",
    "        digit = temp % 10\n",
    "        sum += digit**order\n",
    "        temp //= 10\n",
    "    \n",
    "    if num == sum:\n",
    "        print(num)"
   ]
  },
  {
   "cell_type": "markdown",
   "id": "91c9097a",
   "metadata": {},
   "source": [
    "6.Write a Python program to Find the sum of Natural Numbers?"
   ]
  },
  {
   "cell_type": "code",
   "execution_count": 18,
   "id": "d515d285",
   "metadata": {},
   "outputs": [
    {
     "name": "stdout",
     "output_type": "stream",
     "text": [
      "Enter a Positive Number: 150\n",
      "Sum of 150 numbers is 11325\n"
     ]
    }
   ],
   "source": [
    "num = int(input(\"Enter a Positive Number: \"))\n",
    "total_sum = 0\n",
    "\n",
    "for i in range(1,num+1):\n",
    "    total_sum += i\n",
    "     \n",
    "print(\"Sum of {} numbers is {}\".format(num,total_sum))\n"
   ]
  },
  {
   "cell_type": "code",
   "execution_count": null,
   "id": "ee88ccf4",
   "metadata": {},
   "outputs": [],
   "source": []
  }
 ],
 "metadata": {
  "kernelspec": {
   "display_name": "Python 3 (ipykernel)",
   "language": "python",
   "name": "python3"
  },
  "language_info": {
   "codemirror_mode": {
    "name": "ipython",
    "version": 3
   },
   "file_extension": ".py",
   "mimetype": "text/x-python",
   "name": "python",
   "nbconvert_exporter": "python",
   "pygments_lexer": "ipython3",
   "version": "3.9.7"
  }
 },
 "nbformat": 4,
 "nbformat_minor": 5
}

{
 "cells": [
  {
   "cell_type": "markdown",
   "id": "0835ea79",
   "metadata": {},
   "source": [
    "# Programming Assignment - 7"
   ]
  },
  {
   "cell_type": "markdown",
   "id": "a39a7fec",
   "metadata": {},
   "source": [
    "1. Write a Python program to find sum of Array?"
   ]
  },
  {
   "cell_type": "code",
   "execution_count": 7,
   "id": "bc08f95d",
   "metadata": {},
   "outputs": [],
   "source": [
    "def array_sum(arr):\n",
    "    total = 0\n",
    "    for num in arr:\n",
    "        total += num\n",
    "    return total"
   ]
  },
  {
   "cell_type": "code",
   "execution_count": 8,
   "id": "a6b268ff",
   "metadata": {},
   "outputs": [
    {
     "name": "stdout",
     "output_type": "stream",
     "text": [
      "18\n"
     ]
    }
   ],
   "source": [
    "array =[1,2,3,7,5]\n",
    "print(array_sum(array))"
   ]
  },
  {
   "cell_type": "markdown",
   "id": "2f8e8d9a",
   "metadata": {},
   "source": [
    "2. Write a Python program to find largest element in an array? "
   ]
  },
  {
   "cell_type": "code",
   "execution_count": 11,
   "id": "e95d9974",
   "metadata": {},
   "outputs": [
    {
     "name": "stdout",
     "output_type": "stream",
     "text": [
      "Largest in given array  4567\n"
     ]
    }
   ],
   "source": [
    "def largest(arr,n):\n",
    "    max = arr[0]\n",
    "    \n",
    "    for i in range(1,n):\n",
    "        if arr[i] > max:\n",
    "            max = arr[i]\n",
    "    return max\n",
    "    \n",
    "arr = [23,45,73,4567]\n",
    "n = len(arr)\n",
    "print(\"Largest in given array \",largest(arr,n))"
   ]
  },
  {
   "cell_type": "markdown",
   "id": "326d9e6f",
   "metadata": {},
   "source": [
    "3. Write a Python program for Array Rotation?"
   ]
  },
  {
   "cell_type": "code",
   "execution_count": 25,
   "id": "0687225e",
   "metadata": {},
   "outputs": [
    {
     "name": "stdout",
     "output_type": "stream",
     "text": [
      "Rotated array: \n",
      "[6, 5, 4, 3, 2, 1]\n"
     ]
    }
   ],
   "source": [
    "def rotateArray(a,d):\n",
    "    temp = []\n",
    "    n=len(a)\n",
    "    for i in range(d,n):\n",
    "        temp.append(a[i])\n",
    "    i = 0\n",
    "    for i in range(0,d):\n",
    "        temp.append(a[i])\n",
    "    a=temp.copy()\n",
    "    return a\n",
    "\n",
    "arr = [1,2,3,4,5,6]\n",
    "print(\"Rotated array: \")\n",
    "print(arr[::-1])"
   ]
  },
  {
   "cell_type": "markdown",
   "id": "6d2b7012",
   "metadata": {},
   "source": [
    "4. Write a python program to split the array and Add the first part to the end?"
   ]
  },
  {
   "cell_type": "code",
   "execution_count": 26,
   "id": "22604373",
   "metadata": {},
   "outputs": [
    {
     "name": "stdout",
     "output_type": "stream",
     "text": [
      "After left rotation by 2:  [3, 4, 5, 6, 7, 1, 2]\n"
     ]
    }
   ],
   "source": [
    "def rotateArray(a,d):\n",
    "    temp = []\n",
    "    n=len(a)\n",
    "    for i in range(d,n):\n",
    "        temp.append(a[i])\n",
    "    i = 0\n",
    "    for i in range(0,d):\n",
    "        temp.append(a[i])\n",
    "    a=temp.copy()\n",
    "    return a\n",
    "\n",
    "arr = [1,2,3,4,5,6,7]\n",
    "print(\"After left rotation by 2: \",end=' ')\n",
    "print(rotateArray(arr,2))"
   ]
  },
  {
   "cell_type": "markdown",
   "id": "0c97a276",
   "metadata": {},
   "source": [
    "5. Write a Python program to check if the given array is Monotonic?"
   ]
  },
  {
   "cell_type": "code",
   "execution_count": 27,
   "id": "ed568f26",
   "metadata": {},
   "outputs": [],
   "source": [
    "def monotonicCheck(array):\n",
    "    flag = True\n",
    "    \n",
    "    if array[0] >= array[len(array)-1]:\n",
    "        for i in range(len(array)-2):\n",
    "            if array[i] < array[i+1]:\n",
    "                flag = False\n",
    "    else:\n",
    "        for i in range(len(array)-2):\n",
    "            if array[i] > array[i+1]:\n",
    "                flag = False\n",
    "                \n",
    "    return flag"
   ]
  },
  {
   "cell_type": "code",
   "execution_count": 28,
   "id": "99e0a838",
   "metadata": {},
   "outputs": [
    {
     "data": {
      "text/plain": [
       "False"
      ]
     },
     "execution_count": 28,
     "metadata": {},
     "output_type": "execute_result"
    }
   ],
   "source": [
    "array = [23,45456,675,67]\n",
    "monotonicCheck(array)"
   ]
  },
  {
   "cell_type": "code",
   "execution_count": 30,
   "id": "7349607f",
   "metadata": {},
   "outputs": [
    {
     "data": {
      "text/plain": [
       "True"
      ]
     },
     "execution_count": 30,
     "metadata": {},
     "output_type": "execute_result"
    }
   ],
   "source": [
    "array = [-23,-12,-3,0,2,4,56,232]\n",
    "monotonicCheck(array)"
   ]
  },
  {
   "cell_type": "code",
   "execution_count": null,
   "id": "97f4e57d",
   "metadata": {},
   "outputs": [],
   "source": []
  }
 ],
 "metadata": {
  "kernelspec": {
   "display_name": "Python 3 (ipykernel)",
   "language": "python",
   "name": "python3"
  },
  "language_info": {
   "codemirror_mode": {
    "name": "ipython",
    "version": 3
   },
   "file_extension": ".py",
   "mimetype": "text/x-python",
   "name": "python",
   "nbconvert_exporter": "python",
   "pygments_lexer": "ipython3",
   "version": "3.9.7"
  }
 },
 "nbformat": 4,
 "nbformat_minor": 5
}

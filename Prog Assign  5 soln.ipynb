{
 "cells": [
  {
   "cell_type": "markdown",
   "id": "e5b2d76e",
   "metadata": {},
   "source": [
    "# Programming Assignments - 5"
   ]
  },
  {
   "cell_type": "markdown",
   "id": "ec442dfd",
   "metadata": {},
   "source": [
    "1. Write a program to Find LCM?"
   ]
  },
  {
   "cell_type": "code",
   "execution_count": 5,
   "id": "eec40441",
   "metadata": {},
   "outputs": [],
   "source": [
    "def LCM(a,b):\n",
    "    '''\n",
    "    Function which returns the LCM of two number '''\n",
    "    \n",
    "    high =a if a>b else b\n",
    "    \n",
    "    while True:\n",
    "        if (high%a==0) and (high%b==0):\n",
    "            break\n",
    "        else:\n",
    "            high += 1\n",
    "    return high\n",
    "        "
   ]
  },
  {
   "cell_type": "code",
   "execution_count": 6,
   "id": "3f8e04e3",
   "metadata": {},
   "outputs": [
    {
     "data": {
      "text/plain": [
       "20"
      ]
     },
     "execution_count": 6,
     "metadata": {},
     "output_type": "execute_result"
    }
   ],
   "source": [
    "a=5\n",
    "b=4\n",
    "\n",
    "LCM(a,b)"
   ]
  },
  {
   "cell_type": "markdown",
   "id": "9043747d",
   "metadata": {},
   "source": [
    "2.Write a python program to find HCF?"
   ]
  },
  {
   "cell_type": "code",
   "execution_count": 10,
   "id": "1faf1b23",
   "metadata": {},
   "outputs": [],
   "source": [
    "def HCF(a,b):\n",
    "    low = a if a < b else b\n",
    "    \n",
    "    for i in range(1,low+1):\n",
    "        if (a%i==0) and (b%i==0):\n",
    "            hcf = i\n",
    "    return hcf"
   ]
  },
  {
   "cell_type": "code",
   "execution_count": 11,
   "id": "aa5cd6de",
   "metadata": {},
   "outputs": [
    {
     "data": {
      "text/plain": [
       "6"
      ]
     },
     "execution_count": 11,
     "metadata": {},
     "output_type": "execute_result"
    }
   ],
   "source": [
    "a=24\n",
    "b=30\n",
    "HCF(a,b)"
   ]
  },
  {
   "cell_type": "markdown",
   "id": "c949127f",
   "metadata": {},
   "source": [
    "3. Write a python program to convert Decimal to Binary,Octal and Hexadecimal?"
   ]
  },
  {
   "cell_type": "code",
   "execution_count": 12,
   "id": "fc53e4c4",
   "metadata": {},
   "outputs": [],
   "source": [
    "def conversion(num):\n",
    "    print(\"Binary:              \",bin(num))\n",
    "    print(\"Octal:               \",oct(num))\n",
    "    print(\"Hexadecimal:         \",hex(num))\n",
    "    "
   ]
  },
  {
   "cell_type": "code",
   "execution_count": 15,
   "id": "0233406b",
   "metadata": {},
   "outputs": [
    {
     "name": "stdout",
     "output_type": "stream",
     "text": [
      "Binary:               0b100\n",
      "Octal:                0o4\n",
      "Hexadecimal:          0x4\n"
     ]
    }
   ],
   "source": [
    "conversion(4)"
   ]
  },
  {
   "cell_type": "code",
   "execution_count": 16,
   "id": "b58c0bec",
   "metadata": {},
   "outputs": [
    {
     "name": "stdout",
     "output_type": "stream",
     "text": [
      "Binary:               0b100010\n",
      "Octal:                0o42\n",
      "Hexadecimal:          0x22\n"
     ]
    }
   ],
   "source": [
    "conversion(34)"
   ]
  },
  {
   "cell_type": "markdown",
   "id": "5d2e7da9",
   "metadata": {},
   "source": [
    "4. Write a python program To Find the ASCII value of a character?"
   ]
  },
  {
   "cell_type": "code",
   "execution_count": 20,
   "id": "1445497d",
   "metadata": {},
   "outputs": [
    {
     "name": "stdout",
     "output_type": "stream",
     "text": [
      "Enter a character: b\n",
      "ASCII value of b is 98\n"
     ]
    }
   ],
   "source": [
    "try:\n",
    "    char = input(\"Enter a character: \")\n",
    "    ASCII =ord(char)\n",
    "    print(\"ASCII value of {} is {}\".format(char,ASCII))\n",
    "except Exception as e:\n",
    "    print(e)"
   ]
  },
  {
   "cell_type": "markdown",
   "id": "20221e1b",
   "metadata": {},
   "source": [
    "5. Write a python program to Make a Simple calculator with 4 basic mathematical operations?"
   ]
  },
  {
   "cell_type": "code",
   "execution_count": null,
   "id": "55503b04",
   "metadata": {},
   "outputs": [
    {
     "name": "stdout",
     "output_type": "stream",
     "text": [
      "Enter the First Number:  20\n",
      "Enter the Second Number:  5\n",
      "\n",
      "For Addition:        +\n",
      "For Substraction:      -\n",
      "For Multiplication:    *\n",
      "For Division:          /\n",
      "For Exit:              X\n",
      "\n",
      "Enter the choice for mathematical operations: +\n",
      "\n",
      "Result:    25\n",
      "Enter the First Number:  125\n",
      "Enter the Second Number:  5\n",
      "\n",
      "For Addition:        +\n",
      "For Substraction:      -\n",
      "For Multiplication:    *\n",
      "For Division:          /\n",
      "For Exit:              X\n",
      "\n",
      "Enter the choice for mathematical operations: /\n",
      "\n",
      "Result:    25.0\n"
     ]
    }
   ],
   "source": [
    "try:\n",
    "    while True:\n",
    "        num1 = int(input(\"Enter the First Number:  \"))\n",
    "        num2 = int(input(\"Enter the Second Number:  \"))\n",
    "        \n",
    "        print(\"\\nFor Addition:        +\")\n",
    "        print(\"For Substraction:      -\")\n",
    "        print(\"For Multiplication:    *\")\n",
    "        print(\"For Division:          /\")\n",
    "        print(\"For Exit:              X\")\n",
    "        \n",
    "        ch = input(\"\\nEnter the choice for mathematical operations: \")\n",
    "        \n",
    "        if ch == '+':\n",
    "            output = num1 + num2\n",
    "        elif ch == '-':\n",
    "            output = num1 - num2\n",
    "        elif ch == '*':\n",
    "            output = num1 * num2\n",
    "        elif ch == '/':\n",
    "            output = num1 / num2\n",
    "        \n",
    "        if ch == 'X' or ch== 'x':\n",
    "            break\n",
    "            \n",
    "        print(\"\\nResult:   \",output)\n",
    "        \n",
    "except Exception as e:\n",
    "    print(e)"
   ]
  },
  {
   "cell_type": "code",
   "execution_count": null,
   "id": "f491893e",
   "metadata": {},
   "outputs": [],
   "source": []
  }
 ],
 "metadata": {
  "kernelspec": {
   "display_name": "Python 3 (ipykernel)",
   "language": "python",
   "name": "python3"
  },
  "language_info": {
   "codemirror_mode": {
    "name": "ipython",
    "version": 3
   },
   "file_extension": ".py",
   "mimetype": "text/x-python",
   "name": "python",
   "nbconvert_exporter": "python",
   "pygments_lexer": "ipython3",
   "version": "3.9.7"
  }
 },
 "nbformat": 4,
 "nbformat_minor": 5
}

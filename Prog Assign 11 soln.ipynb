{
 "cells": [
  {
   "cell_type": "markdown",
   "id": "56811f24",
   "metadata": {},
   "source": [
    "# Python Basic Programming Assignment 11"
   ]
  },
  {
   "cell_type": "markdown",
   "id": "c7a8ebaf",
   "metadata": {},
   "source": [
    "1. Write a Python program to find words which are greater than given length k?"
   ]
  },
  {
   "cell_type": "code",
   "execution_count": 3,
   "id": "bc2f727e",
   "metadata": {},
   "outputs": [],
   "source": [
    "def task1(list_of_words: list,k: int):\n",
    "    output= []\n",
    "    for i in list_of_words:\n",
    "        if len(i) > k:\n",
    "            output.append(i)\n",
    "    \n",
    "    return output"
   ]
  },
  {
   "cell_type": "code",
   "execution_count": 8,
   "id": "151c07d7",
   "metadata": {},
   "outputs": [
    {
     "data": {
      "text/plain": [
       "['world', 'amere', 'opera', 'higher']"
      ]
     },
     "execution_count": 8,
     "metadata": {},
     "output_type": "execute_result"
    }
   ],
   "source": [
    "l=['world','amere','opera','higher','ase','top']\n",
    "k=3\n",
    "task1(l,3)"
   ]
  },
  {
   "cell_type": "markdown",
   "id": "5a823493",
   "metadata": {},
   "source": [
    "2. Write a Python program for removing i-th character from a string?"
   ]
  },
  {
   "cell_type": "code",
   "execution_count": 9,
   "id": "5fa1e526",
   "metadata": {},
   "outputs": [],
   "source": [
    "def task2(string: str,i):\n",
    "    string= string.replace(string[i],  '')\n",
    "    return string"
   ]
  },
  {
   "cell_type": "code",
   "execution_count": 11,
   "id": "49c6996a",
   "metadata": {},
   "outputs": [
    {
     "data": {
      "text/plain": [
       "'abddf'"
      ]
     },
     "execution_count": 11,
     "metadata": {},
     "output_type": "execute_result"
    }
   ],
   "source": [
    "task2('abdsdf',3)"
   ]
  },
  {
   "cell_type": "markdown",
   "id": "78dc36f6",
   "metadata": {},
   "source": [
    "3. Write a Python program to split and join a string?"
   ]
  },
  {
   "cell_type": "code",
   "execution_count": 13,
   "id": "1ee7a1a1",
   "metadata": {},
   "outputs": [
    {
     "name": "stdout",
     "output_type": "stream",
     "text": [
      "['something', 'is', 'better', 'than', 'nothing']\n",
      "something  is  better  than  nothing\n"
     ]
    }
   ],
   "source": [
    "string = \"something is better than nothing\"\n",
    "\n",
    "split= string.split(' ')\n",
    "print(split)\n",
    "\n",
    "join= '  '.join(split)\n",
    "print(join)"
   ]
  },
  {
   "cell_type": "markdown",
   "id": "8c5c12f0",
   "metadata": {},
   "source": [
    "4. Write a Python to check if a given string is binary string or not?"
   ]
  },
  {
   "cell_type": "code",
   "execution_count": 16,
   "id": "5cf96267",
   "metadata": {},
   "outputs": [
    {
     "name": "stdout",
     "output_type": "stream",
     "text": [
      "Enter the string: 10101\n",
      "Binary\n"
     ]
    }
   ],
   "source": [
    "string = input(\"Enter the string: \")\n",
    "Binary = ['0','1']\n",
    "\n",
    "Is_binary = True\n",
    "for i in string:\n",
    "    if i not in Binary:\n",
    "        Is_binary = False\n",
    "\n",
    "if Is_binary:\n",
    "    print(\"Binary\")\n",
    "else:\n",
    "    print(\"Not Binary\")"
   ]
  },
  {
   "cell_type": "markdown",
   "id": "6082b031",
   "metadata": {},
   "source": [
    "5. Write a Python program to find uncommon words from two Strings?"
   ]
  },
  {
   "cell_type": "code",
   "execution_count": 20,
   "id": "c83ef225",
   "metadata": {},
   "outputs": [],
   "source": [
    "def task3(str1,str2):\n",
    "    str1 = str1.split(' ')\n",
    "    str2 = str2.split(' ')\n",
    "    uncommon = []\n",
    "\n",
    "    for i in str1:\n",
    "        if i not in str2:\n",
    "            uncommon.append(i)\n",
    "        \n",
    "    for i in str2:\n",
    "        if i not in str1:\n",
    "            uncommon.append(i)\n",
    "    return uncommon"
   ]
  },
  {
   "cell_type": "code",
   "execution_count": 22,
   "id": "54394096",
   "metadata": {},
   "outputs": [
    {
     "data": {
      "text/plain": [
       "['better', 'the', 'best']"
      ]
     },
     "execution_count": 22,
     "metadata": {},
     "output_type": "execute_result"
    }
   ],
   "source": [
    "str1 = \"world is better \"\n",
    "str2 = \"world is the best \"\n",
    "\n",
    "task3(str1,str2)"
   ]
  },
  {
   "cell_type": "markdown",
   "id": "75ba4397",
   "metadata": {},
   "source": [
    "6. Write a Python to find all duplicate characters in string?"
   ]
  },
  {
   "cell_type": "code",
   "execution_count": 25,
   "id": "91acdd5f",
   "metadata": {},
   "outputs": [],
   "source": [
    "def task4(str):\n",
    "    duplicate = []\n",
    "    for i in str:\n",
    "        if str.count(i) > 1:\n",
    "            duplicate.append(i)\n",
    "    return set(duplicate)"
   ]
  },
  {
   "cell_type": "code",
   "execution_count": 26,
   "id": "a60ba2ee",
   "metadata": {},
   "outputs": [
    {
     "data": {
      "text/plain": [
       "{' ', 'e', 'g', 'h', 'i', 'n', 'o', 's', 't'}"
      ]
     },
     "execution_count": 26,
     "metadata": {},
     "output_type": "execute_result"
    }
   ],
   "source": [
    "task4(\"some thing is better than nothing\")"
   ]
  },
  {
   "cell_type": "markdown",
   "id": "89a12cf7",
   "metadata": {},
   "source": [
    "7. Write a Python Program to check if a string contains any special character?\n"
   ]
  },
  {
   "cell_type": "code",
   "execution_count": 31,
   "id": "6b819942",
   "metadata": {},
   "outputs": [
    {
     "name": "stdout",
     "output_type": "stream",
     "text": [
      "Enter a string: df%^\n",
      "Given string contains special characters\n"
     ]
    }
   ],
   "source": [
    "import re\n",
    "\n",
    "str = input(\"Enter a string: \")\n",
    "regex = re.compile('[@_!#$%^&*()<>?/\\|}{~:]')  \n",
    "\n",
    "if(regex.search(str) == None):\n",
    "    print(\"Given string does not contain special characters\")\n",
    "else:\n",
    "    print(\"Given string contains special characters\")"
   ]
  },
  {
   "cell_type": "code",
   "execution_count": 32,
   "id": "5f144412",
   "metadata": {},
   "outputs": [
    {
     "name": "stdout",
     "output_type": "stream",
     "text": [
      "Enter a string: asddf\n",
      "Given string does not contain special characters\n"
     ]
    }
   ],
   "source": [
    "import re\n",
    "\n",
    "str = input(\"Enter a string: \")\n",
    "regex = re.compile('[@_!#$%^&*()<>?/\\|}{~:]')  \n",
    "\n",
    "if(regex.search(str) == None):\n",
    "    print(\"Given string does not contain special characters\")\n",
    "else:\n",
    "    print(\"Given string contains special characters\")"
   ]
  },
  {
   "cell_type": "code",
   "execution_count": null,
   "id": "fdcbc64a",
   "metadata": {},
   "outputs": [],
   "source": []
  }
 ],
 "metadata": {
  "kernelspec": {
   "display_name": "Python 3 (ipykernel)",
   "language": "python",
   "name": "python3"
  },
  "language_info": {
   "codemirror_mode": {
    "name": "ipython",
    "version": 3
   },
   "file_extension": ".py",
   "mimetype": "text/x-python",
   "name": "python",
   "nbconvert_exporter": "python",
   "pygments_lexer": "ipython3",
   "version": "3.9.7"
  }
 },
 "nbformat": 4,
 "nbformat_minor": 5
}

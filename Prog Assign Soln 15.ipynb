{
 "cells": [
  {
   "cell_type": "markdown",
   "id": "b66662ca",
   "metadata": {},
   "source": [
    "# Python Basic Programming Assignment - 15"
   ]
  },
  {
   "cell_type": "markdown",
   "id": "78293605",
   "metadata": {},
   "source": [
    "1. Please write a program using generator to print the numbers which can be divisible by 5 and 7 between 0 and n in comma separated form while n is input by console."
   ]
  },
  {
   "cell_type": "code",
   "execution_count": 1,
   "id": "b397244a",
   "metadata": {},
   "outputs": [],
   "source": [
    "def test1(n):\n",
    "    for i in range(n+1):\n",
    "        if i % 5 ==0 and i % 7==0:\n",
    "            yield str(i)+' '\n",
    "            "
   ]
  },
  {
   "cell_type": "code",
   "execution_count": 5,
   "id": "162f15b0",
   "metadata": {},
   "outputs": [
    {
     "data": {
      "text/plain": [
       "<generator object test1 at 0x000000D2644A4BA0>"
      ]
     },
     "execution_count": 5,
     "metadata": {},
     "output_type": "execute_result"
    }
   ],
   "source": [
    "test1(200)"
   ]
  },
  {
   "cell_type": "code",
   "execution_count": 6,
   "id": "5d23519a",
   "metadata": {},
   "outputs": [
    {
     "name": "stdout",
     "output_type": "stream",
     "text": [
      "0  , 35  , 70  , 105  , 140  , 175 \n"
     ]
    }
   ],
   "source": [
    "print(' , '.join([i for i in test1(200)]))"
   ]
  },
  {
   "cell_type": "markdown",
   "id": "89fcd009",
   "metadata": {},
   "source": [
    "2. Please write a program using generator to print the even numbers between 0 and n in comma separated form while n is input by console."
   ]
  },
  {
   "cell_type": "code",
   "execution_count": 10,
   "id": "313efe87",
   "metadata": {},
   "outputs": [],
   "source": [
    "def test2(n):\n",
    "    for i in range(n+1):\n",
    "        if i % 2 ==0:\n",
    "            yield str (i)+' '"
   ]
  },
  {
   "cell_type": "code",
   "execution_count": 11,
   "id": "357ade55",
   "metadata": {},
   "outputs": [
    {
     "name": "stdout",
     "output_type": "stream",
     "text": [
      "0 ,2 ,4 ,6 ,8 ,10 ,12 ,14 ,16 ,18 ,20 ,22 ,24 ,26 ,28 ,30 ,32 ,34 ,36 ,38 ,40 ,42 ,44 ,46 ,48 ,50 \n"
     ]
    }
   ],
   "source": [
    "print(','.join([i for i in test2(50)]))"
   ]
  },
  {
   "cell_type": "markdown",
   "id": "a4f2a92f",
   "metadata": {},
   "source": [
    "3. Please write a program using list comprehension to print the Fibonacci Sequence in comma separated form with a given n input by console."
   ]
  },
  {
   "cell_type": "code",
   "execution_count": 21,
   "id": "9b214439",
   "metadata": {},
   "outputs": [],
   "source": [
    "def Fibo(n):\n",
    "    i=0\n",
    "    j=1\n",
    "    for k in range(n+1):\n",
    "        yield i\n",
    "        i,j = j,i+j\n",
    "        \n",
    "    "
   ]
  },
  {
   "cell_type": "code",
   "execution_count": 22,
   "id": "531a484a",
   "metadata": {},
   "outputs": [
    {
     "name": "stdout",
     "output_type": "stream",
     "text": [
      "0,1,1,2,3,5,8,13\n"
     ]
    }
   ],
   "source": [
    " print(','.join([str(num) for num in Fibo(7)]))"
   ]
  },
  {
   "cell_type": "markdown",
   "id": "6887dd0a",
   "metadata": {},
   "source": [
    "4. Assuming that we have some email addresses in the \"username@companyname.com\" format, please write program to print the user name of a given email address. Both user names and company names are composed of letters only."
   ]
  },
  {
   "cell_type": "code",
   "execution_count": 23,
   "id": "c65e1810",
   "metadata": {},
   "outputs": [],
   "source": [
    "def Username(email:str):\n",
    "    return email.split('@')[0]"
   ]
  },
  {
   "cell_type": "code",
   "execution_count": 24,
   "id": "7a21c775",
   "metadata": {},
   "outputs": [
    {
     "data": {
      "text/plain": [
       "'Utarsh'"
      ]
     },
     "execution_count": 24,
     "metadata": {},
     "output_type": "execute_result"
    }
   ],
   "source": [
    "Username('Utarsh@gmail.com')"
   ]
  },
  {
   "cell_type": "markdown",
   "id": "de41b91c",
   "metadata": {},
   "source": [
    "5. Define a class named Shape and its subclass Square. The Square class has an init function which takes a length as argument. Both classes have a area function which can print the area of the shape where Shape's area is 0 by default."
   ]
  },
  {
   "cell_type": "code",
   "execution_count": 25,
   "id": "3740808f",
   "metadata": {},
   "outputs": [],
   "source": [
    "class Shape:\n",
    "    def __init__(self,length):\n",
    "        self.length = length\n",
    "    \n",
    "    def area(self):\n",
    "        return 0\n",
    "\n",
    "class Square(Shape):\n",
    "    def area(self):\n",
    "        return self.length*self.length"
   ]
  },
  {
   "cell_type": "code",
   "execution_count": 27,
   "id": "a50a6de2",
   "metadata": {},
   "outputs": [
    {
     "data": {
      "text/plain": [
       "0"
      ]
     },
     "execution_count": 27,
     "metadata": {},
     "output_type": "execute_result"
    }
   ],
   "source": [
    "Shape_obj = Shape(5)\n",
    "Shape_obj.area()"
   ]
  },
  {
   "cell_type": "code",
   "execution_count": 28,
   "id": "a3128424",
   "metadata": {},
   "outputs": [
    {
     "data": {
      "text/plain": [
       "25"
      ]
     },
     "execution_count": 28,
     "metadata": {},
     "output_type": "execute_result"
    }
   ],
   "source": [
    "Square_obj = Square(5)\n",
    "Square_obj.area()"
   ]
  },
  {
   "cell_type": "code",
   "execution_count": null,
   "id": "b85c890d",
   "metadata": {},
   "outputs": [],
   "source": []
  }
 ],
 "metadata": {
  "kernelspec": {
   "display_name": "Python 3 (ipykernel)",
   "language": "python",
   "name": "python3"
  },
  "language_info": {
   "codemirror_mode": {
    "name": "ipython",
    "version": 3
   },
   "file_extension": ".py",
   "mimetype": "text/x-python",
   "name": "python",
   "nbconvert_exporter": "python",
   "pygments_lexer": "ipython3",
   "version": "3.9.7"
  }
 },
 "nbformat": 4,
 "nbformat_minor": 5
}

{
 "cells": [
  {
   "cell_type": "markdown",
   "id": "7557c004",
   "metadata": {},
   "source": [
    "# Programming Assignment 1\n",
    "\n"
   ]
  },
  {
   "cell_type": "markdown",
   "id": "da6e072e",
   "metadata": {},
   "source": [
    "1. Write a Python program to print a \"Hello Python\"?"
   ]
  },
  {
   "cell_type": "code",
   "execution_count": 1,
   "id": "3ff50f64",
   "metadata": {},
   "outputs": [
    {
     "name": "stdout",
     "output_type": "stream",
     "text": [
      "Hello Python\n"
     ]
    }
   ],
   "source": [
    "print(\"Hello Python\")"
   ]
  },
  {
   "cell_type": "markdown",
   "id": "58bfb26b",
   "metadata": {},
   "source": [
    "2.Write a python program to do arithmetical operations addition and division?"
   ]
  },
  {
   "cell_type": "code",
   "execution_count": 5,
   "id": "8085934b",
   "metadata": {},
   "outputs": [
    {
     "name": "stdout",
     "output_type": "stream",
     "text": [
      "20\n",
      "3.0\n"
     ]
    }
   ],
   "source": [
    "a=15\n",
    "b=5\n",
    "Add=(a+b)\n",
    "Div=(a/b)\n",
    "print(Add)\n",
    "print(Div)"
   ]
  },
  {
   "cell_type": "markdown",
   "id": "62f42521",
   "metadata": {},
   "source": [
    "3.Write a program to find area of triangle?"
   ]
  },
  {
   "cell_type": "code",
   "execution_count": 7,
   "id": "6ff9cc10",
   "metadata": {},
   "outputs": [
    {
     "name": "stdout",
     "output_type": "stream",
     "text": [
      "Area of Triangle:  100.0\n"
     ]
    }
   ],
   "source": [
    "Base = 20\n",
    "Height =10\n",
    "\n",
    "Area = 1/2*Base*Height\n",
    "\n",
    "print(\"Area of Triangle: \",Area)"
   ]
  },
  {
   "cell_type": "markdown",
   "id": "00d80cc1",
   "metadata": {},
   "source": [
    "4. Write a program to swap two variables?"
   ]
  },
  {
   "cell_type": "code",
   "execution_count": 11,
   "id": "061d50c1",
   "metadata": {},
   "outputs": [
    {
     "name": "stdout",
     "output_type": "stream",
     "text": [
      "Before swap:\n",
      " var1=a and var2=b\n",
      "After swap:\n",
      " var1=b and var2=a\n"
     ]
    }
   ],
   "source": [
    "var1 = 'a'\n",
    "var2 = 'b'\n",
    "\n",
    "print(\"Before swap:\\n var1={} and var2={}\".format(var1,var2))\n",
    "\n",
    "temp =var1\n",
    "var1=var2\n",
    "var2=temp\n",
    "\n",
    "print(\"After swap:\\n var1={} and var2={}\".format(var1,var2))"
   ]
  },
  {
   "cell_type": "markdown",
   "id": "de6cd37f",
   "metadata": {},
   "source": [
    "5. Write a Python program to generate a random number?"
   ]
  },
  {
   "cell_type": "code",
   "execution_count": 13,
   "id": "8701094a",
   "metadata": {},
   "outputs": [
    {
     "name": "stdout",
     "output_type": "stream",
     "text": [
      "0.41009199012764097\n",
      "345\n"
     ]
    }
   ],
   "source": [
    "import random\n",
    "print(random.random())\n",
    "print(random.randint(1,1000))"
   ]
  },
  {
   "cell_type": "code",
   "execution_count": null,
   "id": "a0c14286",
   "metadata": {},
   "outputs": [],
   "source": []
  }
 ],
 "metadata": {
  "kernelspec": {
   "display_name": "Python 3 (ipykernel)",
   "language": "python",
   "name": "python3"
  },
  "language_info": {
   "codemirror_mode": {
    "name": "ipython",
    "version": 3
   },
   "file_extension": ".py",
   "mimetype": "text/x-python",
   "name": "python",
   "nbconvert_exporter": "python",
   "pygments_lexer": "ipython3",
   "version": "3.9.7"
  }
 },
 "nbformat": 4,
 "nbformat_minor": 5
}
